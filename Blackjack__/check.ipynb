{
 "cells": [
  {
   "cell_type": "code",
   "execution_count": 14,
   "metadata": {},
   "outputs": [
    {
     "name": "stderr",
     "output_type": "stream",
     "text": [
      "c:\\Python\\Python310\\lib\\site-packages\\numba\\core\\ir_utils.py:2147: NumbaPendingDeprecationWarning: \u001b[1m\n",
      "Encountered the use of a type that is scheduled for deprecation: type 'reflected list' found for argument 'arr_card_on_board' of function 'check_join_sets'.\n",
      "\n",
      "For more information visit https://numba.readthedocs.io/en/stable/reference/deprecation.html#deprecation-of-reflection-for-list-and-set-types\n",
      "\u001b[1m\n",
      "File \"..\\..\\..\\AppData\\Local\\Temp\\ipykernel_4344\\81444435.py\", line 6:\u001b[0m\n",
      "\u001b[1m<source missing, REPL/exec in use?>\u001b[0m\n",
      "\u001b[0m\n",
      "  warnings.warn(NumbaPendingDeprecationWarning(msg, loc=loc))\n",
      "c:\\Python\\Python310\\lib\\site-packages\\numba\\core\\ir_utils.py:2147: NumbaPendingDeprecationWarning: \u001b[1m\n",
      "Encountered the use of a type that is scheduled for deprecation: type 'reflected list' found for argument 'arr_card_on_hand_1' of function 'check_join_sets'.\n",
      "\n",
      "For more information visit https://numba.readthedocs.io/en/stable/reference/deprecation.html#deprecation-of-reflection-for-list-and-set-types\n",
      "\u001b[1m\n",
      "File \"..\\..\\..\\AppData\\Local\\Temp\\ipykernel_4344\\81444435.py\", line 6:\u001b[0m\n",
      "\u001b[1m<source missing, REPL/exec in use?>\u001b[0m\n",
      "\u001b[0m\n",
      "  warnings.warn(NumbaPendingDeprecationWarning(msg, loc=loc))\n"
     ]
    },
    {
     "name": "stdout",
     "output_type": "stream",
     "text": [
      "[[24 61]\n",
      " [33 72]]\n"
     ]
    }
   ],
   "source": [
    "from numba import njit\n",
    "import numpy as np\n",
    "\n",
    "arr_card_on_board = [61,72,268]\n",
    "arr_card_on_hand_1 = [4,5,7,24,32,33,37,46]\n",
    "@njit()\n",
    "def check_join_sets(arr_card_on_board,arr_card_on_hand_1):\n",
    "   arr_card_join = []\n",
    "   for k_ in arr_card_on_hand_1:\n",
    "      natural_parts = int(k_//13)\n",
    "      for idx_ in arr_card_on_board:\n",
    "         if idx_ < 44:\n",
    "            natural_parts_run = int(idx_//11)\n",
    "            if natural_parts_run == natural_parts:    #cùng chất\n",
    "               if (k_%13)-(idx_%11)==3 or (idx_%11)-(k_%13)==1:   # nối dây\n",
    "                  arr_card_join.append([k_,idx_])\n",
    "         if 44 <= idx_ < 84:\n",
    "            natural_parts_run = int((idx_-44)//10)\n",
    "            if natural_parts_run == natural_parts:    \n",
    "               if (k_%13)-((idx_-44)%10)==4 or ((idx_-44)%10)-(k_%13)==1: \n",
    "                  arr_card_join.append([k_,idx_])\n",
    "         if 84 <= idx_ < 120:\n",
    "            natural_parts_run = int((idx_-84)//9)\n",
    "            if natural_parts_run == natural_parts: \n",
    "               if (k_%13)-((idx_-84)%9)==5 or ((idx_-84)%9)-(k_%13)==1:\n",
    "                  arr_card_join.append([k_,idx_])\n",
    "         if 120 <= idx_ < 152:\n",
    "            natural_parts_run = int((idx_-120)//8)\n",
    "            if natural_parts_run == natural_parts: \n",
    "               if (k_%13)-((idx_-120)%8)==6 or ((idx_-120)%8)-(k_%13)==1:\n",
    "                  arr_card_join.append([k_,idx_])\n",
    "         if 152 <= idx_ < 180:\n",
    "            natural_parts_run = int((idx_-152)//7)\n",
    "            if natural_parts_run == natural_parts:\n",
    "               if (k_%13)-((idx_-152)%7)==7 or ((idx_-152)%7)-(k_%13)==1:\n",
    "                  arr_card_join.append([k_,idx_])\n",
    "         if 180 <= idx_ < 204:\n",
    "            continue\n",
    "         if 204 <= idx_ < 256:\n",
    "            if (k_%13) == int((idx_-204)//4):\n",
    "               arr_card_join.append([k_,idx_])\n",
    "         if 256 <= idx_ < 269:\n",
    "            continue\n",
    "   if len(arr_card_join) == 0:\n",
    "      arr_card_join = np.full((0,2),0)\n",
    "      return arr_card_join\n",
    "   else:\n",
    "      return np.array(arr_card_join)\n",
    "arr_card_join = check_join_sets(arr_card_on_board,arr_card_on_hand_1)\n",
    "print(arr_card_join)"
   ]
  },
  {
   "cell_type": "code",
   "execution_count": 45,
   "metadata": {},
   "outputs": [
    {
     "name": "stdout",
     "output_type": "stream",
     "text": [
      "[[45, 3]]\n",
      "[[45, 3], [46, 3]]\n",
      "[[45, 3], [46, 3], [45, 4]]\n",
      "[]\n"
     ]
    }
   ],
   "source": [
    "from numba import njit\n",
    "import numpy as np\n",
    "arr = np.array([45,46,47,48])\n",
    "@njit()\n",
    "def straight_subsequences(arr):\n",
    "   arr_return = []\n",
    "   n = len(arr)\n",
    "   for k in range(3,8):\n",
    "      if n < k:\n",
    "         arr_return = np.full((0,2),0)\n",
    "         return arr_return\n",
    "      \n",
    "      for i in range(0, n-k+1):\n",
    "         sub_arr = arr[i:i+k]\n",
    "         if (np.max(sub_arr) - np.min(sub_arr) == k-1) and (int(sub_arr[0]//13) == int(sub_arr[k-1]//13)):\n",
    "            arr_return.append([sub_arr[0], k])\n",
    "            print(arr_return)\n",
    "   print(arr_return)\n",
    "   if len(arr_return) == 0:\n",
    "      arr_return = np.full((0,2),0)\n",
    "      return arr_return\n",
    "   else:\n",
    "      return np.array(arr_return)\n",
    "\n",
    "straight_subsequences_arr = straight_subsequences(arr)\n",
    "print(straight_subsequences_arr)"
   ]
  },
  {
   "cell_type": "code",
   "execution_count": 31,
   "metadata": {},
   "outputs": [
    {
     "name": "stdout",
     "output_type": "stream",
     "text": [
      "Các thẻ trên tay người số 0: [ 1  3  8 10 12 20 29 30]\n",
      "Các bộ đã đánh ra ngoài: [ 40 226]\n"
     ]
    }
   ],
   "source": [
    "env_state = np.array([28, -1, -1, -1, -1, -1, -1, -1, -1, -1, -1, -1, -1, -1, -1, -1, -1, -1, -1, -1, -1, -1, -1, -1, -1, -1, -1, -1, -1, -1, -1, -1, -1, -1, -1, -1, -1, -1, -1, -1, -1, \n",
    "-1, -1, -1, -1, -1, -1, -1, -1, -1, -1, -1, 21, 13, 24, 0, 34, 32, 51, 4, 23, 35, 25, 11, 6, 41, 40, 38, 50, 33, 43, 14, -1, -1, -1, -1, -1, -1, -1, -1, -1, -1, -1, \n",
    "-1, -1, -1, -1, -1, -1, -1, -1, -1, -1, -1, -1, -1, -1, -1, -1, -1, -1, -1, -1, -1, 0, 1, 1, 1, 1, 0, 1, 0, 1, 0, 0, 0, 0, 1, 0, 1, 0, 1, 0, 0, 0, 0, 0, 0, 0, 1, 0, \n",
    "0, 0, 0, 0, 0, 0, 0, 1, 1, 0, 0, 0, 0, 0, 0, 0, 0, 0, 0, 0, 0, 0, 0, 0, 0, 0, 0, 0, 0, 0, 0, 0, 0, 0, 0, 0, 0, 0, 0, 1, 0, 0, 0, 0, 0, 0, 0, 0, 0, 0, 0, 0, 0, 0, 0, \n",
    "0, 0, 0, 0, 0, 0, 0, 0, 0, 0, 0, 0, 1, 0, 0, 0, 0, 1, 0, 0, 1, 0, 0, 0, 1, 0, 0, 0, 0, 0, 0, 0, 0, 0, 1, 0, 0, 0, 0, 0, 0, 0, 1, 1, 0, 0, 1, 0, 0, 1, 0, 0, 0, 1, 0, \n",
    "0, 0, 0, 1, 0, 0, 0, 0, 0, 0, 0, 0, 0, 0, 0, 0, 0, 0, 0, 0, 0, 0, 0, 0, 0, 0, 1, 0, 0, 0, 0, 0, 0, 0, 0, 0, 0, 0, 0, 0, 0, 1, 0, 0, 0, 0, 0, 0, 0, 0, 0, 1, 0, 0, 0, \n",
    "0, 0, 0, 0, 0, 1, 0, 0, 1, 0, 0, 0, 0, 0, 0, 0, 0, 0, 0, 0, 0, 0, 0, 0, 0, 1, 1, 1, 1, 41, 3, 52, 41, 39, 21, 0, 0, 0, 0, 0, 0, 0, 0, 0, 0, 0, 0, 0, 0, 0, 0, 0, 0, 0, 0, 0, 0, 0, 0, 0, 0, 0, 0, 0, 0, 0, 0, 0, 0, 0, 0, 0, 0, 0, 0, 1, 0, 0, 0, 0, 0, 0, 0, 0, 0, 0, 0, 0, 0, 0, 0, 0, 0, 0, 0, 0, 0, 0, 0, 0, 0, 0, 0, 0, 0, 0, 0, 0, 0, 0, 0, 0, 0, 0, 0, 0, 0, 0, 0, 0, 0, 0, 0, 0, 0, 0, 0, 0, 0, 0, 0, 0, 0, 0, 0, 0, 0, 0, 0, 0, 0, 0, 0, 0, 0, 0, 0, 0, 0, 0, 0, 0, 0, 0, 0, 0, 0, 0, 0, 0, 0, 0, 0, 0, 0, 0, 0, 0, 0, 0, 0, 0, 0, 0, 0, 0, 0, 0, 0, 0, 0, 0, 0, 0, 0, 0, 0, 0, 0, 0, 0, 0, 0, 0, 0, 0, 0, 0, 0, 0, 0, 0, 0, 0, 0, 0, 0, 0, 0, 0, 0, 0, 0, 0, 0, 0, 0, 0, 0, 0, 0, 0, 0, 0, 0, 0, 0, 0, 0, 0, 0, 0, 0, 0, 0, 0, 0, 0, 0, 0, 0, 0, 0, 0, 0, 0, 0, 0, 0, 0, 0, 0, 0, 0, 0, 0, 0, 0, 0, 0, 0, 1, 0, 0, 0, 0, 0, 0, 0, 0, 0, 0, 0, 0, 0, 0, 0, 0, 0, 0, 0, 0, 0, 0, 0, 0, 0, 0, 0, 0, 0, 0, 0, 0, 0, 0, 0, 0, 0, 0, 0, 0, 0, 0])\n",
    "print(\"Các thẻ trên tay người số 0:\",np.where(env_state[109:161]==1)[0])\n",
    "print(\"Các bộ đã đánh ra ngoài:\", np.where(env_state[331:600]==1)[0])\n"
   ]
  },
  {
   "cell_type": "code",
   "execution_count": 64,
   "metadata": {},
   "outputs": [
    {
     "name": "stdout",
     "output_type": "stream",
     "text": [
      "[]\n"
     ]
    }
   ],
   "source": [
    "import numpy as np\n",
    "a = [1,2,3,4]\n",
    "print(a[0:0])\n"
   ]
  },
  {
   "cell_type": "code",
   "execution_count": 37,
   "metadata": {},
   "outputs": [
    {
     "data": {
      "text/plain": [
       "9"
      ]
     },
     "execution_count": 37,
     "metadata": {},
     "output_type": "execute_result"
    }
   ],
   "source": [
    "import numpy as np\n",
    "def weighted_random(arr_card_on_board):\n",
    "   \"\"\"Trả ra index\"\"\"\n",
    "   sum_ = np.sum(arr_card_on_board)\n",
    "   if sum_ <= 1e-15:\n",
    "      raise\n",
    "\n",
    "   rand_card = np.random.uniform(0, sum_)\n",
    "   for idx_card in range(arr_card_on_board.shape[0]):\n",
    "      rand_card -= arr_card_on_board[idx_card]\n",
    "      if rand_card <= 0:\n",
    "         return idx_card\n",
    "\n",
    "def step():\n",
    "   arr_card_on_board = np.array([32,32,32,32,32,32,32,32,32,128])\n",
    "   idx = weighted_random(arr_card_on_board)\n",
    "   return idx\n",
    "step()\n"
   ]
  },
  {
   "cell_type": "code",
   "execution_count": 65,
   "metadata": {},
   "outputs": [
    {
     "name": "stdout",
     "output_type": "stream",
     "text": [
      "[]\n",
      "0\n",
      "-1\n"
     ]
    }
   ],
   "source": [
    "from numba import njit,jit \n",
    "import numpy as np\n",
    "@njit()\n",
    "def pick_card_upside_dow(arr_2):\n",
    "   pick_upside_dow = np.where(arr_2 != -1)[0]\n",
    "   arr_pick_upside_dow = arr_2[0:(pick_upside_dow[-1]+1)]\n",
    "   print(pick_upside_dow)\n",
    "   print(pick_upside_dow[-1])\n",
    "   return arr_pick_upside_dow\n",
    "\n",
    "arr_2 = np.array([-1 ,-1 ,-1 ,-1 ,-1 ,-1 ,-1 ,-1 ,-1 ,-1 ,-1 ,-1, -1 ,-1 ,-1 ,-1 ,-1, -1 ,-1 ,-1 ,-1 ,-1 ,-1 ,-1,-1 ,-1 ,-1 ,-1, -1 ,-1 ,-1 ,-1 ,-1, -1 ,-1 ,-1 ,-1 ,-1 ,-1 ,-1 ,-1 ,-1 ,-1 ,-1 ,-1 ,-1 ,-1 ,-1, -1 ,-1 ,-1 ,-1])\n",
    "arr_pick_upside_dow = pick_card_upside_dow(arr_2)  #arr vị trí\n",
    "print(arr_pick_upside_dow[-1])\n",
    "# print(len(arr_pick_upside_dow))\n",
    "# print(arr_pick_upside_dow[-1])\n",
    "\n",
    "# card_choose = arr_pick_upside_dow[-1]\n",
    "# env_state[51+len(arr_pick_upside_dow)] = -1\n",
    "# env_state[109+card_choose] = 1\n",
    "# arr_card_player = env_state[109:161]\n"
   ]
  },
  {
   "cell_type": "code",
   "execution_count": 63,
   "metadata": {},
   "outputs": [
    {
     "name": "stdout",
     "output_type": "stream",
     "text": [
      "[]\n",
      "0\n"
     ]
    },
    {
     "ename": "IndexError",
     "evalue": "index -1 is out of bounds for axis 0 with size 0",
     "output_type": "error",
     "traceback": [
      "\u001b[1;31m---------------------------------------------------------------------------\u001b[0m",
      "\u001b[1;31mIndexError\u001b[0m                                Traceback (most recent call last)",
      "Cell \u001b[1;32mIn [63], line 13\u001b[0m\n\u001b[0;32m     11\u001b[0m \u001b[39mprint\u001b[39m(arr_pick_upside_dow)\n\u001b[0;32m     12\u001b[0m \u001b[39mprint\u001b[39m(\u001b[39mlen\u001b[39m(arr_pick_upside_dow))\n\u001b[1;32m---> 13\u001b[0m card_choose \u001b[39m=\u001b[39m arr_pick_upside_dow[\u001b[39m-\u001b[39;49m\u001b[39m1\u001b[39;49m]\n\u001b[0;32m     14\u001b[0m \u001b[39mprint\u001b[39m(card_choose)\n",
      "\u001b[1;31mIndexError\u001b[0m: index -1 is out of bounds for axis 0 with size 0"
     ]
    }
   ],
   "source": [
    "from numba import njit,jit \n",
    "import numpy as np\n",
    "@njit()\n",
    "def pick_card_upside_dow(arr_2):\n",
    "   pick_upside_dow = np.where(arr_2 != -1)[0]\n",
    "   arr_pick_upside_dow = arr_2[0:len(pick_upside_dow)]\n",
    "   return arr_pick_upside_dow\n",
    "\n",
    "arr_2 = np.array([-1 ,-1 ,-1 ,-1 ,-1 ,-1 ,-1 ,-1 ,-1 ,-1 ,-1 ,-1, -1 ,-1 ,-1 ,-1 ,-1, -1 ,-1 ,-1 ,-1 ,-1 ,-1 ,-1,-1 ,-1 ,-1 ,-1, -1 ,-1 ,-1 ,-1 ,-1, -1 ,-1 ,-1 ,-1 ,-1 ,-1 ,-1 ,-1 ,-1 ,-1 ,-1 ,-1 ,-1 ,-1 ,-1, -1 ,-1 ,-1 ,-1])\n",
    "arr_pick_upside_dow = pick_card_upside_dow(arr_2)  #arr vị trí\n",
    "print(arr_pick_upside_dow)\n",
    "print(len(arr_pick_upside_dow))\n",
    "card_choose = arr_pick_upside_dow[-1]\n",
    "print(card_choose)\n",
    "# env_state[51+len(arr_pick_upside_dow)] = -1\n",
    "# env_state[109+card_choose] = 1\n",
    "# arr_card_player = env_state[109:161]\n"
   ]
  },
  {
   "cell_type": "code",
   "execution_count": 53,
   "metadata": {},
   "outputs": [
    {
     "name": "stdout",
     "output_type": "stream",
     "text": [
      "449 ns ± 37.6 ns per loop (mean ± std. dev. of 7 runs, 1,000,000 loops each)\n"
     ]
    }
   ],
   "source": [
    "%timeit check()"
   ]
  },
  {
   "cell_type": "code",
   "execution_count": 7,
   "metadata": {},
   "outputs": [
    {
     "name": "stdout",
     "output_type": "stream",
     "text": [
      "[35 24 50  9 22 20  4 10  1 27 33 16 26 18 17  8 11 32 29 23 45  5 14  3\n",
      " 30 40 21 48 19 51 37 25 39 42 34 46  7 49 36 15 31  2  0 43  6 12 47 28\n",
      " 38 41 44 13]\n"
     ]
    }
   ],
   "source": [
    "import numpy as np\n",
    "temp = np.arange(52)\n",
    "np.random.shuffle(temp)\n",
    "print(temp)\n"
   ]
  },
  {
   "cell_type": "code",
   "execution_count": 1,
   "metadata": {},
   "outputs": [],
   "source": [
    "import numpy as np\n",
    "def visualizeEnv(env_state):\n",
    "   dict_ = {}\n",
    "   dict_[\"Bài úp trên bàn:\"] = np.where(env_state[0:52] != -1)[0]\n",
    "   dict_[\"Bài ngửa trên bàn:\"] = env_state[52:(52+len(np.where(env_state[52:104] != -1)[0]))]\n",
    "   dict_[\"Bài trên tay người thứ nhất:\"] = np.where(env_state[109:161]==1)[0]\n",
    "   dict_[\"Bài trên tay người thứ hai:\"] = np.where(env_state[161:213]==1)[0]\n",
    "   dict_[\"Bài trên tay người thứ ba:\"] = np.where(env_state[213:265]==1)[0]\n",
    "   dict_[\"Bài trên tay người thứ tư:\"] = np.where(env_state[265:]==1)[0]\n",
    "   dict_[\"Người số mấy đang chơi:\"] = env_state[104]\n",
    "   dict_[\"Điểm ván nhỏ:\"] = env_state[327:331]\n",
    "   dict_[\"Người còn lại trong bàn chơi:\"] = env_state[321:325]\n",
    "   dict_[\"Các bộ đã được đánh ra:\"] = np.where(env_state[331:600]==1)[0]\n",
    "   dict_[\"turn\"] = env_state[325]\n",
    "\n",
    "   return dict_"
   ]
  },
  {
   "cell_type": "code",
   "execution_count": 7,
   "metadata": {},
   "outputs": [
    {
     "name": "stdout",
     "output_type": "stream",
     "text": [
      "[]\n"
     ]
    },
    {
     "ename": "ValueError",
     "evalue": "zero-size array to reduction operation minimum which has no identity",
     "output_type": "error",
     "traceback": [
      "\u001b[1;31m---------------------------------------------------------------------------\u001b[0m",
      "\u001b[1;31mValueError\u001b[0m                                Traceback (most recent call last)",
      "Cell \u001b[1;32mIn [7], line 9\u001b[0m\n\u001b[0;32m      7\u001b[0m check_win_arr \u001b[39m=\u001b[39m env_state[\u001b[39m4\u001b[39m\u001b[39m+\u001b[39marr_status_player]\n\u001b[0;32m      8\u001b[0m \u001b[39mprint\u001b[39m(check_win_arr)\n\u001b[1;32m----> 9\u001b[0m min_point \u001b[39m=\u001b[39m np\u001b[39m.\u001b[39;49mmin(check_win_arr)\n\u001b[0;32m     10\u001b[0m arr_winner \u001b[39m=\u001b[39m np\u001b[39m.\u001b[39mwhere(check_win_arr \u001b[39m==\u001b[39m min_point)[\u001b[39m0\u001b[39m]\n\u001b[0;32m     11\u001b[0m \u001b[39mprint\u001b[39m(arr_winner)\n",
      "File \u001b[1;32m<__array_function__ internals>:180\u001b[0m, in \u001b[0;36mamin\u001b[1;34m(*args, **kwargs)\u001b[0m\n",
      "File \u001b[1;32mc:\\Python\\Python310\\lib\\site-packages\\numpy\\core\\fromnumeric.py:2918\u001b[0m, in \u001b[0;36mamin\u001b[1;34m(a, axis, out, keepdims, initial, where)\u001b[0m\n\u001b[0;32m   2802\u001b[0m \u001b[39m@array_function_dispatch\u001b[39m(_amin_dispatcher)\n\u001b[0;32m   2803\u001b[0m \u001b[39mdef\u001b[39;00m \u001b[39mamin\u001b[39m(a, axis\u001b[39m=\u001b[39m\u001b[39mNone\u001b[39;00m, out\u001b[39m=\u001b[39m\u001b[39mNone\u001b[39;00m, keepdims\u001b[39m=\u001b[39mnp\u001b[39m.\u001b[39m_NoValue, initial\u001b[39m=\u001b[39mnp\u001b[39m.\u001b[39m_NoValue,\n\u001b[0;32m   2804\u001b[0m          where\u001b[39m=\u001b[39mnp\u001b[39m.\u001b[39m_NoValue):\n\u001b[0;32m   2805\u001b[0m     \u001b[39m\"\"\"\u001b[39;00m\n\u001b[0;32m   2806\u001b[0m \u001b[39m    Return the minimum of an array or minimum along an axis.\u001b[39;00m\n\u001b[0;32m   2807\u001b[0m \n\u001b[1;32m   (...)\u001b[0m\n\u001b[0;32m   2916\u001b[0m \u001b[39m    6\u001b[39;00m\n\u001b[0;32m   2917\u001b[0m \u001b[39m    \"\"\"\u001b[39;00m\n\u001b[1;32m-> 2918\u001b[0m     \u001b[39mreturn\u001b[39;00m _wrapreduction(a, np\u001b[39m.\u001b[39;49mminimum, \u001b[39m'\u001b[39;49m\u001b[39mmin\u001b[39;49m\u001b[39m'\u001b[39;49m, axis, \u001b[39mNone\u001b[39;49;00m, out,\n\u001b[0;32m   2919\u001b[0m                           keepdims\u001b[39m=\u001b[39;49mkeepdims, initial\u001b[39m=\u001b[39;49minitial, where\u001b[39m=\u001b[39;49mwhere)\n",
      "File \u001b[1;32mc:\\Python\\Python310\\lib\\site-packages\\numpy\\core\\fromnumeric.py:86\u001b[0m, in \u001b[0;36m_wrapreduction\u001b[1;34m(obj, ufunc, method, axis, dtype, out, **kwargs)\u001b[0m\n\u001b[0;32m     83\u001b[0m         \u001b[39melse\u001b[39;00m:\n\u001b[0;32m     84\u001b[0m             \u001b[39mreturn\u001b[39;00m reduction(axis\u001b[39m=\u001b[39maxis, out\u001b[39m=\u001b[39mout, \u001b[39m*\u001b[39m\u001b[39m*\u001b[39mpasskwargs)\n\u001b[1;32m---> 86\u001b[0m \u001b[39mreturn\u001b[39;00m ufunc\u001b[39m.\u001b[39mreduce(obj, axis, dtype, out, \u001b[39m*\u001b[39m\u001b[39m*\u001b[39mpasskwargs)\n",
      "\u001b[1;31mValueError\u001b[0m: zero-size array to reduction operation minimum which has no identity"
     ]
    }
   ],
   "source": [
    "import numpy as np\n",
    "env_state = np.full(8,0)\n",
    "env_state[0:4] = [0,0,0,0]\n",
    "env_state[4:8] = [64,0,54,0]\n",
    "\n",
    "arr_status_player = np.where(env_state[0:4] == 1)[0]\n",
    "check_win_arr = env_state[4+arr_status_player]\n",
    "print(check_win_arr)\n",
    "min_point = np.min(check_win_arr)\n",
    "arr_winner = np.where(check_win_arr == min_point)[0]\n",
    "print(arr_winner)\n"
   ]
  },
  {
   "cell_type": "code",
   "execution_count": 8,
   "metadata": {},
   "outputs": [
    {
     "name": "stdout",
     "output_type": "stream",
     "text": [
      "7\n",
      "[4 5 6 0 1 2 3]\n",
      "0\n"
     ]
    }
   ],
   "source": [
    "import numpy as np\n",
    "P_id = 4\n",
    "asd = [0,1,2,3,4,5,6]\n",
    "add = np.full(len(asd),4)\n",
    "c = asd+add\n",
    "a = []\n",
    "for i in range(len(c)):\n",
    "   if c[i] > 6:\n",
    "      c[i] -= 7\n",
    "b = np.min(c)\n",
    "print(len(asd))\n",
    "print(c)\n",
    "print(b)\n",
    "   \n"
   ]
  },
  {
   "cell_type": "code",
   "execution_count": 13,
   "metadata": {},
   "outputs": [
    {
     "data": {
      "text/plain": [
       "array([ 1.,  9.,  5., 10.,  8.,  6., 10.,  8.,  3.,  8.,  2.,  8.,  4.,\n",
       "       10.,  2.,  7.,  7.,  8.,  4.,  2.,  1.,  4., 10.,  8.,  5.,  1.,\n",
       "        1., 10.,  4.,  2.,  3., 10., 10.,  5.,  3., 10., 10.,  8., 10.,\n",
       "        3.,  7.,  9.,  1., 10.,  7.,  3.,  8., 10.,  8., 10.,  6.,  2.,\n",
       "        8., 10.,  7., 10.,  2.,  4.,  7., 10., 10., 10.,  7., 10.,  9.,\n",
       "       10.,  2.,  2., 10.,  6., 10.,  1.,  7.,  3., 10.,  2.,  3., 10.,\n",
       "        3.,  8., 10.,  8.,  4.,  7.,  2.,  7.,  6., 10.,  1., 10.,  9.,\n",
       "        2.,  6.,  5.,  5., 10.,  8.,  2., 10.,  7., 10.,  5.,  5.,  9.,\n",
       "       10., 10.,  9., 10.,  8., 10.,  5.,  2., 10., 10., 10.,  1., 10.,\n",
       "        1., 10.,  3., 10., 10.,  7.,  9.,  9.,  3., 10.,  1.,  9.,  3.,\n",
       "        8., 10., 10.,  6.,  8.,  4., 10.,  9.,  7.,  4.,  2.,  1.,  6.,\n",
       "        4.,  9.,  4.,  6.,  9., 10.,  1.,  1.,  8., 10.,  3.,  8.,  6.,\n",
       "        4.,  3., 10., 10.,  6., 10., 10.,  4.,  9.,  2.,  8., 10.,  8.,\n",
       "        2.,  2.,  2., 10., 10.,  5., 10., 10.,  4.,  6., 10.,  3., 10.,\n",
       "        4., 10.,  8., 10.,  4.,  6.,  4., 10.,  8.,  9.,  4.,  6.,  7.,\n",
       "        1.,  5., 10.,  9.,  7.,  7.,  5.,  4.,  5., 10., 10.,  5.,  5.,\n",
       "       10., 10., 10.,  1., 10.,  8.,  2.,  6.,  9.,  6.,  2.,  3.,  3.,\n",
       "       10.,  5., 10.,  7.,  9., 10.,  1.,  4.,  5.,  7.,  3., 10.,  6.,\n",
       "       10.,  2.,  1.,  8.,  4.,  5.,  1., 10., 10., 10., 10., 10.,  3.,\n",
       "        5., 10.,  6.,  7., 10.,  2.,  3.,  1.,  3.,  5., 10.,  7., 10.,\n",
       "       10.,  9.,  7., 10., 10.,  7.,  6.,  5., 10., 10.,  6.,  4.,  1.,\n",
       "        1., 10., 10.,  5.,  4.,  3., 10.,  9., 10.,  1.,  6., 10.,  4.,\n",
       "        7.,  1.,  6.,  5.,  2.,  8.,  5.,  7.,  2., 10.,  8.,  1., 10.,\n",
       "       10.,  5., 10.,  4.,  3.,  6.,  4.,  5., 10.,  2.,  6.,  6.,  7.,\n",
       "       10.,  7., 10.,  1.,  3.,  4.,  7., 10.,  8.,  2.,  6.,  2.,  3.,\n",
       "        4., 10.,  9.,  9., 10., 10., 10.,  3.,  9., 10.,  1.,  3.,  7.,\n",
       "        5.,  8.,  3.,  2.,  5., 10.,  1.,  5.,  9., 10.,  6.,  2., 10.,\n",
       "       10.,  5.,  4.,  4.,  2.,  9., 10., 10., 10.,  3.,  6.,  9.,  7.,\n",
       "        6., 10., 10., 10.,  1.,  3., 10., 10., 10., 10., 10.,  3.,  9.,\n",
       "        5.,  4.,  2.,  1.,  9.,  7.,  1., 10.,  7.,  9., 10.,  4.,  8.,\n",
       "        8.,  1., 10.,  9.,  5.,  8.,  9.,  6.,  7., 10., 10.,  1.,  9.,\n",
       "       10., 10.,  3.,  2.,  3.,  4.,  6.,  9.,  5.,  6.,  8.,  6., 10.,\n",
       "        0.,  0.,  0.,  0.,  0.,  0.,  0.,  0.,  0.,  0.,  0.,  0.,  0.,\n",
       "        0.,  0.,  0.,  0.,  0.,  0.,  0.,  0.,  0.,  0.,  0.,  0.,  0.,\n",
       "        0.,  0.,  0.,  0.,  0.,  0.,  0.,  0.,  0.,  0.,  0.,  0.,  0.,\n",
       "        0.,  0.,  0.,  0.,  0.,  0.,  0.,  0.,  0.,  0.,  0.,  0.,  0.,\n",
       "        0.,  0.,  0.,  0.,  0.,  0.,  0.,  0.,  0.,  0.,  0.,  0.,  0.,\n",
       "        0.,  0.,  0.,  0.,  0.,  0.,  0.,  0.,  0.,  0.,  0.,  0.,  0.,\n",
       "        0.,  0.,  0.,  0.,  0.,  0.,  0.,  0.,  0.,  0.,  0.,  0.,  0.,\n",
       "        0.,  0.,  0.,  0.,  0.,  0.,  0.,  0.,  0.,  0.,  0.,  0.,  0.,\n",
       "        0.,  0.,  0.,  0.,  0.,  0.,  0.,  0.,  0.,  0.,  0.,  0.,  0.,\n",
       "        0.,  0.,  0.,  0.,  0.,  0.,  0.,  0.,  0.,  0.,  0.,  0.,  0.,\n",
       "        0.,  0.,  0.,  0.,  0.,  0.,  0.,  0.,  0.,  0.,  0.,  0.,  0.,\n",
       "        0.,  0.,  0.,  0.,  0.,  0.,  0.,  0.,  0.,  0.,  0.,  0.,  0.,\n",
       "        0.,  0.,  0.,  0.,  0.,  0.,  0.,  0.,  0.,  0.,  0.,  0.,  0.,\n",
       "        0.,  0.,  0.,  0.,  0.,  0.,  0.,  0.,  0.,  0.,  0.,  0.,  0.,\n",
       "        0.,  0.,  0.,  0.,  0.,  0.,  0.,  0.,  0.,  0.,  0.,  0.,  0.,\n",
       "        0.,  0.,  0.,  0.,  0.,  0.,  0.,  0.,  0.,  0.,  0.,  0.,  0.,\n",
       "        0.,  0.,  0.,  0.,  0.,  0.,  0.,  0.,  0.,  0.,  0.,  0.,  0.,\n",
       "        0.,  0.,  0.,  0.,  0.,  0.,  0.,  0.,  0.,  0.,  0.,  0.,  0.,\n",
       "        0.,  0.,  0.,  0.,  0.,  0.,  0.,  0.,  0.,  0.,  0.,  0.,  0.,\n",
       "        0.,  0.,  0.,  0.,  0.,  0.,  0.,  0.,  0.,  0.,  0.,  0.,  0.,\n",
       "        0.,  0.,  0.,  0.,  0.,  0.,  0.,  0.,  0.,  0.,  0.,  0.,  0.,\n",
       "        0.,  0.,  0.,  0.,  0.,  0.,  0.,  0.,  0.,  0.,  0.,  0.,  0.,\n",
       "        0.,  0.,  0.,  0.,  0.,  0.,  0.,  0.,  0.,  0.,  0.,  0.,  0.,\n",
       "        0.,  0.,  0.,  0.,  0.,  0.,  0.,  0.,  0.,  0.,  0.,  0.,  0.,\n",
       "        0.,  0.,  0.,  0.,  0.,  0.,  0.,  0.,  0.,  0.,  0.,  0.,  0.,\n",
       "        0.,  0.,  0.,  0.,  0.,  0.,  0.,  0.,  0.,  0.,  0.,  0.,  0.,\n",
       "        0.,  0.,  0.,  0.,  0.,  0.,  0.,  0.,  0.,  0.,  0.,  0.,  0.,\n",
       "        0.,  0.,  0.,  0.,  0.,  0.,  0.,  0.,  0.,  0.,  0.,  0.,  0.,\n",
       "        0.,  0.,  0.,  0.,  0.,  0.,  0.,  0.,  0.,  0.,  0.,  0.,  0.,\n",
       "        0.,  0.,  0.,  0.,  0.,  0.,  0.,  0.,  0.,  0.,  0.,  0.,  0.,\n",
       "        0.,  0.,  0.,  0.,  0.,  0.,  0.,  0.,  0.,  0.,  0.,  0.,  0.,\n",
       "        0.,  0.,  0.,  0.,  0.,  0.,  0.,  0.,  0.,  0.,  0.,  0.,  0.,\n",
       "        0.,  0.,  0.,  0.,  0.,  0.,  0.,  0.,  0.,  0.,  0.,  0.,  0.,\n",
       "        0.,  0.,  0.,  0.,  0.,  0.,  0.,  0.,  0.,  0.,  0.,  0.,  0.,\n",
       "        0.,  0.,  0.,  0.,  0.,  0.,  0.,  0.,  0.,  0.,  0.,  0.,  0.,\n",
       "        0.,  0.,  0.,  0.,  0.,  0.,  0.,  0.,  0.,  0.,  0.,  0.,  0.,\n",
       "        0.,  0.,  0.,  0.,  0.,  0.,  0.,  0.,  0.,  0.,  0.,  0.,  0.,\n",
       "        0.,  0.,  0.,  0.,  0.,  0.,  0.,  0.,  0.,  0.,  0.,  0.])"
      ]
     },
     "execution_count": 13,
     "metadata": {},
     "output_type": "execute_result"
    }
   ],
   "source": [
    "import numpy as np\n",
    "\n",
    "def reset():\n",
    "    env_state = np.zeros(909)\n",
    "    deal_card = np.zeros(416)\n",
    "\n",
    "\n",
    "    for i in range(9):\n",
    "        deal_card[32*i:32*(i+1)] = 1 + i\n",
    "    \n",
    "    deal_card[288:416] = 10\n",
    "    np.random.shuffle(deal_card)\n",
    "\n",
    "    env_state[:416] = deal_card\n",
    "\n",
    "    # env_state[832:839] = số tiền từng người\n",
    "    # env_state[839:909] = lá bài trên tay người chơi\n",
    "    # env_state[909] = người đang chơi\n",
    "\n",
    "\n",
    "    return env_state\n",
    "\n",
    "reset()\n"
   ]
  },
  {
   "cell_type": "code",
   "execution_count": 6,
   "metadata": {},
   "outputs": [],
   "source": [
    "def get_player_state(env_state):\n",
    "    \n",
    "    P_state = np.zeros()\n",
    "    P_state[:416] = env_state[416:832]\n",
    "    P_state[416] = env_state[909]\n",
    "    for ii in range(7):\n",
    "        ID_other = env_state[909] + ii\n",
    "        if ID_other <= 6:\n",
    "            P_state[(417+ii)] = env_state[832 + ID_other]\n",
    "        else:\n",
    "            add_kc = 2*(ID_other - 7)\n",
    "            P_state[417+ii] = env_state[839 -  ID_other + add_kc]\n",
    "\n",
    "    \n",
    "\n",
    "    return P_state.astype(np.float64)\n"
   ]
  },
  {
   "cell_type": "code",
   "execution_count": 1,
   "metadata": {},
   "outputs": [
    {
     "data": {
      "text/plain": [
       "array([ 32.,  32.,  32.,  32.,  32.,  32.,  32.,  32.,  32., 128.,   0.,\n",
       "         0.,   0.,   0.,   0.,   0.,   0.,   0.,   0.,   0.,   0.,   0.,\n",
       "         0.,   0.,   0.,   0.,   0.,   0.,   0.,   0.,   0.,   0.,   0.,\n",
       "         0.,   0.,   0.,   0.,   0.,   0.,   0.])"
      ]
     },
     "execution_count": 1,
     "metadata": {},
     "output_type": "execute_result"
    }
   ],
   "source": [
    "import numpy as np\n",
    "\n",
    "def reset():\n",
    "\n",
    "    env_state = np.zeros(40)\n",
    "    number_of_card = np.zeros(10)\n",
    "\n",
    "    number_of_card[0:9] = 32\n",
    "    number_of_card[9] = 128\n",
    "\n",
    "    env_state[0:10] = number_of_card[:10]\n",
    "    \n",
    "    # env_state[20:27] = số tiền của từng người\n",
    "    # env_state[27:49] = lá bài trên tay người chơi(max)\n",
    "    # env_state[49] = ID_player\n",
    "    \n",
    "    return env_state\n",
    "reset()"
   ]
  },
  {
   "cell_type": "code",
   "execution_count": 48,
   "metadata": {},
   "outputs": [
    {
     "name": "stdout",
     "output_type": "stream",
     "text": [
      "9\n"
     ]
    }
   ],
   "source": [
    "import numpy as np\n",
    "def weighted_Random():\n",
    "    arr = [32,32,32,32,32,32,32,32,32,128]\n",
    "    c = np.sum(arr)\n",
    "    d = np.random.uniform(0,c)\n",
    "    for id in range(len(arr)):\n",
    "        e = d - arr[id]\n",
    "        if e <= 0:\n",
    "            print(id)\n",
    "weighted_Random()\n"
   ]
  },
  {
   "cell_type": "code",
   "execution_count": 3,
   "metadata": {},
   "outputs": [],
   "source": [
    "import numpy as np\n",
    "def initEnv():\n",
    "\n",
    "    env_state = np.zeros(198)\n",
    "    env_state[:9] = 32\n",
    "    env_state[9] = 128\n",
    "    env_state[10] = 10000\n",
    "    env_state[11:17] = 1000\n",
    " \n",
    "    return env_state\n",
    "    \n",
    "env_state = initEnv()"
   ]
  },
  {
   "cell_type": "code",
   "execution_count": 4,
   "metadata": {},
   "outputs": [],
   "source": [
    "def getAgentState(env_state):\n",
    "\n",
    "    P_state = np.zeros(150)\n",
    "    P_id = env_state[43]//2\n",
    "    P1_id = env_state[43]\n",
    "    for i in range(7):\n",
    "        if (P_id+i) <= 6:\n",
    "            P_state[i] = env_state[10+P_id+i]\n",
    "        elif (P_id+i) > 6:\n",
    "            P_state[i] = env_state[3+P_id+i]\n",
    "    for lct in range(7):\n",
    "        if (P_id+lct) <= 6:\n",
    "            P_state[(7+20*lct):(7+20*(lct+1))] = env_state[(44+(P_id+lct)*22):(44+(P_id+lct+1)*22)]\n",
    "        elif (P_id+lct) > 6:\n",
    "            P_state[(7+20*lct):(7+20*(lct+1))] = env_state[(44+(P_id+lct-7)*22):(44+(P_id+lct-6)*22)]\n",
    "\n",
    "    P_state[149] = env_state[198]\n",
    "\n",
    "    return P_state.astype(np.float64)\n"
   ]
  },
  {
   "cell_type": "code",
   "execution_count": 5,
   "metadata": {},
   "outputs": [],
   "source": [
    "def getValidActions(P_state):\n",
    "    Valid_Actions_return = np.zeros()\n",
    "    Check_place_a_bet = P_state[147]\n",
    "    Check_coin_player = P_state[:7]\n",
    "    Card_on_hand = P_state[7:27]\n",
    "    Coin_a_bet = P_state[148]\n",
    "    Sum_number_of_card = np.sum(Card_on_hand)\n",
    "\n",
    "    if Check_place_a_bet == 0:\n",
    "        if Check_coin_player[0] >= 100:\n",
    "            Valid_Actions_return[0:4] = 1\n",
    "        elif Check_coin_player[0]<100 and Check_coin_player[0]>=25:\n",
    "            Valid_Actions_return[0:3] = 1\n",
    "            Valid_Actions_return[3] = 0\n",
    "        elif Check_coin_player[0]<25 and Check_coin_player[0]>=10:\n",
    "            Valid_Actions_return[0:2] = 1\n",
    "            Valid_Actions_return[2:4] = 0\n",
    "        elif Check_coin_player[0]<10 and Check_coin_player[0]>=5:\n",
    "            Valid_Actions_return[0] = 1\n",
    "            Valid_Actions_return[1:4] = 0\n",
    "        elif Check_coin_player[0]<5:\n",
    "            Valid_Actions_return[0:4] = 0\n",
    "    elif Check_place_a_bet == 1:\n",
    "        card_other_0 = 0\n",
    "        for run in range(len(Card_on_hand)):\n",
    "            if run != 0:\n",
    "                card_other_0 += 1\n",
    "        if card_other_0==1 and Sum_number_of_card==2:\n",
    "            if Check_coin_player >= Coin_a_bet:\n",
    "                Valid_Actions_return[4:8] = 1\n",
    "        elif card_other_0!=1 and Sum_number_of_card==2:\n",
    "            if Check_coin_player >= Coin_a_bet:\n",
    "                Valid_Actions_return[4:7] = 1\n",
    "                Valid_Actions_return[7] = 0\n",
    "        else: \n",
    "            Valid_Actions_return[4:6] = 1\n",
    "            Valid_Actions_return[6:8] = 0\n",
    "            \n",
    "    return Valid_Actions_return"
   ]
  }
 ],
 "metadata": {
  "kernelspec": {
   "display_name": "Python 3.10.7 64-bit",
   "language": "python",
   "name": "python3"
  },
  "language_info": {
   "codemirror_mode": {
    "name": "ipython",
    "version": 3
   },
   "file_extension": ".py",
   "mimetype": "text/x-python",
   "name": "python",
   "nbconvert_exporter": "python",
   "pygments_lexer": "ipython3",
   "version": "3.10.7"
  },
  "orig_nbformat": 4,
  "vscode": {
   "interpreter": {
    "hash": "d3e10ef16274dd72e574b8fa73b58450b957d8421a2901baded3cca26fcf5dda"
   }
  }
 },
 "nbformat": 4,
 "nbformat_minor": 2
}
