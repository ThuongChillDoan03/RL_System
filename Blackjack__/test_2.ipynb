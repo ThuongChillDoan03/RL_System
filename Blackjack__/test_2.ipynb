{
 "cells": [
  {
   "cell_type": "code",
   "execution_count": 13,
   "metadata": {},
   "outputs": [
    {
     "data": {
      "text/plain": [
       "array([0, 0, 0, 0, 0, 0, 0, 0, 0, 0, 0, 0, 0, 0, 0, 0, 0, 0, 0, 0, 0, 0,\n",
       "       0, 0, 0, 0, 0, 0, 0, 0, 0, 0, 0, 0, 0, 0, 0], dtype=int64)"
      ]
     },
     "execution_count": 13,
     "metadata": {},
     "output_type": "execute_result"
    }
   ],
   "source": [
    "import numpy as np\n",
    "import random as rd\n",
    "import math\n",
    "from numba import njit\n",
    "\n",
    "@njit()\n",
    "def so_nguyen_to(n):\n",
    "   arr_nguyen_to = np.full(n+1,0)\n",
    "   b = int(math.sqrt(n))\n",
    "   for i_ in range(2,len(arr_nguyen_to)+1):\n",
    "      dem = 0\n",
    "      for i in range(1,b+1):\n",
    "         if i_ % i == 0:\n",
    "            dem += 1\n",
    "      if dem == 1:\n",
    "         arr_nguyen_to[i_] == 1\n",
    "\n",
    "   return arr_nguyen_to\n",
    "\n",
    "n = int(input())\n",
    "so_nguyen_to(n)"
   ]
  },
  {
   "cell_type": "code",
   "execution_count": null,
   "metadata": {},
   "outputs": [],
   "source": [
    "def visualize(env_state):\n",
    "   dictionary = {}\n",
    "   dictionary[\"Lá bài còn lại trên bàn chơi\"] = env_state[:10]\n",
    "   dictionary[\"Số tiền còn lại của mỗi người\"] = env_state[10:17]\n",
    "\n",
    "   return dictionary"
   ]
  },
  {
   "cell_type": "code",
   "execution_count": 12,
   "metadata": {},
   "outputs": [
    {
     "name": "stdout",
     "output_type": "stream",
     "text": [
      "693 ns ± 11.8 ns per loop (mean ± std. dev. of 7 runs, 1,000,000 loops each)\n"
     ]
    }
   ],
   "source": [
    "%timeit so_nguyen_to(n)"
   ]
  }
 ],
 "metadata": {
  "kernelspec": {
   "display_name": "Python 3",
   "language": "python",
   "name": "python3"
  },
  "language_info": {
   "codemirror_mode": {
    "name": "ipython",
    "version": 3
   },
   "file_extension": ".py",
   "mimetype": "text/x-python",
   "name": "python",
   "nbconvert_exporter": "python",
   "pygments_lexer": "ipython3",
   "version": "3.10.7 (tags/v3.10.7:6cc6b13, Sep  5 2022, 14:08:36) [MSC v.1933 64 bit (AMD64)]"
  },
  "orig_nbformat": 4,
  "vscode": {
   "interpreter": {
    "hash": "d3e10ef16274dd72e574b8fa73b58450b957d8421a2901baded3cca26fcf5dda"
   }
  }
 },
 "nbformat": 4,
 "nbformat_minor": 2
}
